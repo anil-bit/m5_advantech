{
 "cells": [
  {
   "cell_type": "code",
   "execution_count": 1,
   "id": "dd99b317",
   "metadata": {},
   "outputs": [],
   "source": [
    "import pandas as pd\n",
    "import numpy as np\n",
    "import matplotlib.pyplot as plt\n",
    "import plotly.express as px\n",
    "import seaborn as sns\n",
    "import plotly.graph_objects as go\n",
    "from IPython.display import Image\n",
    "import random\n",
    "\n",
    "import warnings\n",
    "warnings.filterwarnings(\"ignore\")"
   ]
  },
  {
   "cell_type": "code",
   "execution_count": null,
   "id": "660e3a0c",
   "metadata": {},
   "outputs": [],
   "source": [
    "data=pd.read_pickle(\"/home/anil/Music/data/all_data.csv\")\n",
    "#data.drop('weights',inplace=True,axis=1)\n",
    "data.head()"
   ]
  },
  {
   "cell_type": "code",
   "execution_count": null,
   "id": "84488de9",
   "metadata": {},
   "outputs": [],
   "source": [
    "data.info()"
   ]
  },
  {
   "cell_type": "markdown",
   "id": "00fbea33",
   "metadata": {},
   "source": [
    "# splitting the data"
   ]
  },
  {
   "cell_type": "code",
   "execution_count": null,
   "id": "4f0279ac",
   "metadata": {},
   "outputs": [],
   "source": [
    "def split_data(data):\n",
    "\n",
    "    #Product details upto day 1913 is used as training dataset\n",
    "    X_train = data[data['d']<=1913]\n",
    "    y_train = X_train['sales']\n",
    "    X_train.drop('sales',axis = 1,inplace = True)\n",
    "    \n",
    "    # Product details from day 1914 to 1941 is used as validation dataset\n",
    "    X_val = data[(data['d']>=1914) & (data['d']<=1941)]\n",
    "    y_val = X_val['sales']\n",
    "    X_val.drop(['sales'],axis = 1,inplace = True)\n",
    "    \n",
    "    # Product details starting from day 1942 is used as validation dataset\n",
    "    X_test = data[(data['d']>=1942)]\n",
    "    X_test.drop(['sales'],axis = 1,inplace = True)\n",
    "    \n",
    "    #print(\"Train dataset\",X_train.shape,y_train.shape)\n",
    "    #print(\"Validation dataset\",X_val.shape,y_val.shape)\n",
    "    #print(\"Test dataset\",X_test.shape)\n",
    "    return(X_train,y_train,X_val,y_val,X_test)"
   ]
  },
  {
   "cell_type": "code",
   "execution_count": 3,
   "id": "1290f0f7",
   "metadata": {},
   "outputs": [],
   "source": [
    "def reshape(input):\n",
    "    value = np.reshape(input, (-1, 28),order = 'F')\n",
    "    return value"
   ]
  },
  {
   "cell_type": "code",
   "execution_count": 4,
   "id": "726f08a6",
   "metadata": {},
   "outputs": [
    {
     "ename": "ModuleNotFoundError",
     "evalue": "No module named 'tqdm'",
     "output_type": "error",
     "traceback": [
      "\u001b[0;31m---------------------------------------------------------------------------\u001b[0m",
      "\u001b[0;31mModuleNotFoundError\u001b[0m                       Traceback (most recent call last)",
      "Cell \u001b[0;32mIn[4], line 1\u001b[0m\n\u001b[0;32m----> 1\u001b[0m \u001b[38;5;28;01mfrom\u001b[39;00m \u001b[38;5;21;01mtqdm\u001b[39;00m \u001b[38;5;28;01mimport\u001b[39;00m tqdm\n",
      "\u001b[0;31mModuleNotFoundError\u001b[0m: No module named 'tqdm'"
     ]
    }
   ],
   "source": [
    "from tqdm import tqdm"
   ]
  },
  {
   "cell_type": "code",
   "execution_count": 5,
   "id": "17941242",
   "metadata": {},
   "outputs": [],
   "source": [
    "def submission_term(val_predict,test_predict):\n",
    "        \n",
    "    val_pred =reshape(val_predict)\n",
    "    test_pred=reshape(test_predict)\n",
    "    \n",
    "    submission=pd.read_csv(r\"C:\\Users\\Sunayana chittari\\project\\sample_submission.csv\")\n",
    "    \n",
    "    for ind in tqdm(range(28)):\n",
    "        submission.iloc[:30490,ind+1]=val_pred[:,ind]\n",
    "        submission.iloc[30490:,ind+1]=test_pred[:,ind]\n",
    "        \n",
    "    return submission"
   ]
  },
  {
   "cell_type": "markdown",
   "id": "f653778e",
   "metadata": {},
   "source": [
    "# linear_regression"
   ]
  },
  {
   "cell_type": "code",
   "execution_count": null,
   "id": "fc9836f8",
   "metadata": {},
   "outputs": [],
   "source": [
    "from sklearn.metrics import mean_squared_error as mse\n",
    "from sklearn.linear_model import LinearRegression"
   ]
  },
  {
   "cell_type": "code",
   "execution_count": null,
   "id": "77cdd7fc",
   "metadata": {},
   "outputs": [],
   "source": [
    "xtrain,ytrain,xval,yval,xtest=split_data(data)\n",
    "\n",
    "model = LinearRegression(n_jobs=-1)\n",
    "model.fit(xtrain,ytrain)"
   ]
  },
  {
   "cell_type": "code",
   "execution_count": 6,
   "id": "7f6b6b0f",
   "metadata": {},
   "outputs": [
    {
     "ename": "NameError",
     "evalue": "name 'model' is not defined",
     "output_type": "error",
     "traceback": [
      "\u001b[0;31m---------------------------------------------------------------------------\u001b[0m",
      "\u001b[0;31mNameError\u001b[0m                                 Traceback (most recent call last)",
      "Cell \u001b[0;32mIn[6], line 1\u001b[0m\n\u001b[0;32m----> 1\u001b[0m yval_pred  \u001b[38;5;241m=\u001b[39m \u001b[43mmodel\u001b[49m\u001b[38;5;241m.\u001b[39mpredict(xval)\n\u001b[1;32m      2\u001b[0m ytest_pred \u001b[38;5;241m=\u001b[39m model\u001b[38;5;241m.\u001b[39mpredict(xtest)\n",
      "\u001b[0;31mNameError\u001b[0m: name 'model' is not defined"
     ]
    }
   ],
   "source": [
    "yval_pred  = model.predict(xval)\n",
    "ytest_pred = model.predict(xtest)"
   ]
  },
  {
   "cell_type": "code",
   "execution_count": null,
   "id": "fcbae08d",
   "metadata": {},
   "outputs": [],
   "source": [
    "rmse = mse(yval,yval_pred)\n",
    "\n",
    "print(rmse)\n",
    "\n",
    "submission1=submission_term(yval_pred,ytest_pred)\n",
    "submission1.to_csv(r\"C:\\Users\\Sunayana chittari\\project\\submissions\\linreg\\sample_submission_new.csv\",index=False)\n",
    "submission1.head()"
   ]
  }
 ],
 "metadata": {
  "kernelspec": {
   "display_name": "firstEnv",
   "language": "python",
   "name": "firstenv"
  },
  "language_info": {
   "codemirror_mode": {
    "name": "ipython",
    "version": 3
   },
   "file_extension": ".py",
   "mimetype": "text/x-python",
   "name": "python",
   "nbconvert_exporter": "python",
   "pygments_lexer": "ipython3",
   "version": "3.11.3"
  }
 },
 "nbformat": 4,
 "nbformat_minor": 5
}
